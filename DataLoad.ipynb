{
 "cells": [
  {
   "cell_type": "markdown",
   "metadata": {},
   "source": [
    "DataLoad 단\n",
    "\n",
    "train 이 쪼개져있을 경우 > 멀티프로세싱으로 한번에 로드\n",
    "\n",
    "\n",
    "특정 크기를 넘으면>  \n",
    "    train 폴더를 만들고 특정 크기의 csv 들로 분할  \n",
    "    멀티프로세싱으로 한번에 샘플링 로드  \n",
    "    \n",
    "이후 pickle 로 내보내기"
   ]
  },
  {
   "cell_type": "code",
   "execution_count": 1,
   "metadata": {},
   "outputs": [],
   "source": [
    "import pandas as pd\n",
    "import numpy as np\n",
    "\n",
    "import dill as pickle"
   ]
  },
  {
   "cell_type": "code",
   "execution_count": 2,
   "metadata": {},
   "outputs": [],
   "source": [
    "MAX_SIZE = 2048"
   ]
  },
  {
   "cell_type": "code",
   "execution_count": 3,
   "metadata": {},
   "outputs": [],
   "source": [
    "train = pd.read_csv(\"input/train.csv\")\n",
    "test = pd.read_csv(\"input/test.csv\")\n",
    "sample_submssion = pd.read_csv(\"input/sample_submission.csv\")"
   ]
  },
  {
   "cell_type": "code",
   "execution_count": 4,
   "metadata": {},
   "outputs": [
    {
     "name": "stdout",
     "output_type": "stream",
     "text": [
      "Memory usage of properties dataframe is : 35.09375762939453MB\n",
      "Memory usage of properties dataframe is : 1.6800994873046875MB\n"
     ]
    }
   ],
   "source": [
    "start_mem_usg = train.memory_usage().sum() / (1024**2)\n",
    "print(\"Memory usage of properties dataframe is : {}MB\".format(start_mem_usg))\n",
    "\n",
    "start_mem_usg = test.memory_usage().sum() / (1024**2)\n",
    "print(\"Memory usage of properties dataframe is : {}MB\".format(start_mem_usg))"
   ]
  },
  {
   "cell_type": "code",
   "execution_count": 5,
   "metadata": {},
   "outputs": [],
   "source": [
    "if start_mem_usg > MAX_SIZE:\n",
    "    pass"
   ]
  },
  {
   "cell_type": "code",
   "execution_count": 6,
   "metadata": {},
   "outputs": [],
   "source": [
    "data = {\"train\" : train,\n",
    "       \"test\" : test,\n",
    "       \"sample_submission\" : sample_submssion}"
   ]
  },
  {
   "cell_type": "code",
   "execution_count": 7,
   "metadata": {},
   "outputs": [],
   "source": [
    "with open(\"input/data_raw.pkl\", \"wb\") as f:\n",
    "    pickle.dump(data,f)"
   ]
  },
  {
   "cell_type": "code",
   "execution_count": null,
   "metadata": {},
   "outputs": [],
   "source": []
  }
 ],
 "metadata": {
  "kernelspec": {
   "display_name": "Python 3",
   "language": "python",
   "name": "python3"
  },
  "language_info": {
   "codemirror_mode": {
    "name": "ipython",
    "version": 3
   },
   "file_extension": ".py",
   "mimetype": "text/x-python",
   "name": "python",
   "nbconvert_exporter": "python",
   "pygments_lexer": "ipython3",
   "version": "3.7.6"
  }
 },
 "nbformat": 4,
 "nbformat_minor": 4
}

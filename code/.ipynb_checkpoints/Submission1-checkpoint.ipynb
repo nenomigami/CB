{
 "cells": [
  {
   "cell_type": "code",
   "execution_count": 1,
   "metadata": {
    "_cell_guid": "b1076dfc-b9ad-4769-8c92-a6c4dae69d19",
    "_uuid": "8f2839f25d086af736a60e9eeb907d3b93b6e0e5"
   },
   "outputs": [
    {
     "name": "stdout",
     "output_type": "stream",
     "text": [
      "/kaggle/input/celestial/input/data_raw.pkl\n",
      "/kaggle/input/celestial/input/data_cleaned.pkl\n"
     ]
    }
   ],
   "source": [
    "# This Python 3 environment comes with many helpful analytics libraries installed\n",
    "# It is defined by the kaggle/python docker image: https://github.com/kaggle/docker-python\n",
    "# For example, here's several helpful packages to load in \n",
    "\n",
    "import numpy as np # linear algebra\n",
    "import pandas as pd # data processing, CSV file I/O (e.g. pd.read_csv)\n",
    "\n",
    "# Input data files are available in the \"../input/\" directory.\n",
    "# For example, running this (by clicking run or pressing Shift+Enter) will list all files under the input directory\n",
    "\n",
    "import os\n",
    "for dirname, _, filenames in os.walk('/kaggle/input'):\n",
    "    for filename in filenames:\n",
    "        print(os.path.join(dirname, filename))\n",
    "\n",
    "# Any results you write to the current directory are saved as output."
   ]
  },
  {
   "cell_type": "code",
   "execution_count": 2,
   "metadata": {
    "_cell_guid": "79c7e3d0-c299-4dcb-8224-4455121ee9b0",
    "_uuid": "d629ff2d2480ee46fbb7e2d37f6b5fab8052498a"
   },
   "outputs": [],
   "source": [
    "import pandas as pd\n",
    "import numpy as np\n",
    "\n",
    "import dill as pickle"
   ]
  },
  {
   "cell_type": "code",
   "execution_count": 3,
   "metadata": {},
   "outputs": [],
   "source": [
    "with open(\"/kaggle/input/celestial/input/data_cleaned.pkl\", \"rb\") as f:\n",
    "    data = pickle.load(f)"
   ]
  },
  {
   "cell_type": "code",
   "execution_count": 4,
   "metadata": {},
   "outputs": [],
   "source": [
    "train = data[\"train\"]\n",
    "test = data[\"test\"]"
   ]
  },
  {
   "cell_type": "code",
   "execution_count": 5,
   "metadata": {},
   "outputs": [],
   "source": [
    "from sklearn.model_selection import train_test_split,StratifiedKFold\n",
    "from sklearn.metrics import log_loss,roc_auc_score\n",
    "from catboost import CatBoostClassifier, Pool\n",
    "pd.set_option(\"display.precision\", 15)\n",
    "np.set_printoptions(suppress=True)"
   ]
  },
  {
   "cell_type": "code",
   "execution_count": 25,
   "metadata": {},
   "outputs": [
    {
     "name": "stdout",
     "output_type": "stream",
     "text": [
      "Learning rate set to 0.148819\n",
      "0:\tlearn: 1.6950077\ttest: 1.6988023\tbest: 1.6988023 (0)\ttotal: 22.5ms\tremaining: 33.7s\n",
      "500:\tlearn: 0.3566291\ttest: 0.3886285\tbest: 0.3886285 (500)\ttotal: 8.89s\tremaining: 17.7s\n",
      "1000:\tlearn: 0.3154598\ttest: 0.3752576\tbest: 0.3752576 (1000)\ttotal: 19.3s\tremaining: 9.64s\n",
      "1499:\tlearn: 0.2866894\ttest: 0.3708401\tbest: 0.3708327 (1482)\ttotal: 28.2s\tremaining: 0us\n",
      "bestTest = 0.3708327393\n",
      "bestIteration = 1482\n",
      "Shrink model to first 1483 iterations.\n",
      "Learning rate set to 0.14882\n",
      "0:\tlearn: 1.7090449\ttest: 1.7016009\tbest: 1.7016009 (0)\ttotal: 19.9ms\tremaining: 29.8s\n",
      "500:\tlearn: 0.3566129\ttest: 0.3852388\tbest: 0.3852388 (500)\ttotal: 8.85s\tremaining: 17.6s\n",
      "1000:\tlearn: 0.3151649\ttest: 0.3705102\tbest: 0.3705102 (1000)\ttotal: 17.9s\tremaining: 8.9s\n",
      "1499:\tlearn: 0.2863693\ttest: 0.3654120\tbest: 0.3654120 (1499)\ttotal: 26.5s\tremaining: 0us\n",
      "bestTest = 0.365412045\n",
      "bestIteration = 1499\n",
      "Learning rate set to 0.14882\n",
      "0:\tlearn: 1.6939098\ttest: 1.7018240\tbest: 1.7018240 (0)\ttotal: 18.8ms\tremaining: 28.1s\n",
      "500:\tlearn: 0.3558998\ttest: 0.4013933\tbest: 0.4013933 (500)\ttotal: 8.8s\tremaining: 17.5s\n",
      "1000:\tlearn: 0.3142780\ttest: 0.3864534\tbest: 0.3864348 (998)\ttotal: 19s\tremaining: 9.49s\n",
      "1499:\tlearn: 0.2861501\ttest: 0.3814819\tbest: 0.3814819 (1499)\ttotal: 28s\tremaining: 0us\n",
      "bestTest = 0.3814819403\n",
      "bestIteration = 1499\n",
      "Learning rate set to 0.14882\n",
      "0:\tlearn: 1.7014713\ttest: 1.6957223\tbest: 1.6957223 (0)\ttotal: 19.4ms\tremaining: 29.1s\n",
      "500:\tlearn: 0.3564622\ttest: 0.3891651\tbest: 0.3891651 (500)\ttotal: 9.14s\tremaining: 18.2s\n",
      "1000:\tlearn: 0.3153018\ttest: 0.3750749\tbest: 0.3750749 (1000)\ttotal: 18.2s\tremaining: 9.07s\n",
      "1499:\tlearn: 0.2865011\ttest: 0.3700592\tbest: 0.3700592 (1499)\ttotal: 27.1s\tremaining: 0us\n",
      "bestTest = 0.3700591524\n",
      "bestIteration = 1499\n",
      "Learning rate set to 0.14882\n",
      "0:\tlearn: 1.6941857\ttest: 1.6986652\tbest: 1.6986652 (0)\ttotal: 18.9ms\tremaining: 28.3s\n",
      "500:\tlearn: 0.3573338\ttest: 0.3989139\tbest: 0.3989139 (500)\ttotal: 8.68s\tremaining: 17.3s\n",
      "1000:\tlearn: 0.3147966\ttest: 0.3832392\tbest: 0.3832390 (999)\ttotal: 18.6s\tremaining: 9.29s\n",
      "1499:\tlearn: 0.2861954\ttest: 0.3773780\tbest: 0.3773302 (1491)\ttotal: 27.8s\tremaining: 0us\n",
      "bestTest = 0.3773302191\n",
      "bestIteration = 1491\n",
      "Shrink model to first 1492 iterations.\n",
      "Learning rate set to 0.14882\n",
      "0:\tlearn: 1.6996493\ttest: 1.7039037\tbest: 1.7039037 (0)\ttotal: 25.9ms\tremaining: 38.8s\n",
      "500:\tlearn: 0.3565439\ttest: 0.4022116\tbest: 0.4022116 (500)\ttotal: 8.93s\tremaining: 17.8s\n",
      "1000:\tlearn: 0.3156054\ttest: 0.3879234\tbest: 0.3878644 (992)\ttotal: 17.7s\tremaining: 8.83s\n",
      "1499:\tlearn: 0.2866169\ttest: 0.3830843\tbest: 0.3830843 (1499)\ttotal: 26.8s\tremaining: 0us\n",
      "bestTest = 0.3830842909\n",
      "bestIteration = 1499\n",
      "Learning rate set to 0.14882\n",
      "0:\tlearn: 1.7009654\ttest: 1.6928075\tbest: 1.6928075 (0)\ttotal: 19.6ms\tremaining: 29.4s\n",
      "500:\tlearn: 0.3576635\ttest: 0.3853609\tbest: 0.3853609 (500)\ttotal: 9.31s\tremaining: 18.6s\n",
      "1000:\tlearn: 0.3160557\ttest: 0.3722175\tbest: 0.3722127 (997)\ttotal: 18.9s\tremaining: 9.44s\n",
      "1499:\tlearn: 0.2873519\ttest: 0.3670072\tbest: 0.3669649 (1498)\ttotal: 28.1s\tremaining: 0us\n",
      "bestTest = 0.3669648814\n",
      "bestIteration = 1498\n",
      "Shrink model to first 1499 iterations.\n",
      "Learning rate set to 0.14882\n",
      "0:\tlearn: 1.6996387\ttest: 1.7061054\tbest: 1.7061054 (0)\ttotal: 34.8ms\tremaining: 52.2s\n",
      "500:\tlearn: 0.3577311\ttest: 0.3986629\tbest: 0.3986629 (500)\ttotal: 9.2s\tremaining: 18.3s\n",
      "1000:\tlearn: 0.3155133\ttest: 0.3824238\tbest: 0.3824238 (1000)\ttotal: 18s\tremaining: 8.96s\n",
      "1499:\tlearn: 0.2867209\ttest: 0.3769776\tbest: 0.3769776 (1499)\ttotal: 26.9s\tremaining: 0us\n",
      "bestTest = 0.3769775647\n",
      "bestIteration = 1499\n",
      "Learning rate set to 0.14882\n",
      "0:\tlearn: 1.7006620\ttest: 1.6996905\tbest: 1.6996905 (0)\ttotal: 18.9ms\tremaining: 28.3s\n",
      "500:\tlearn: 0.3579173\ttest: 0.3901021\tbest: 0.3901021 (500)\ttotal: 9.95s\tremaining: 19.8s\n",
      "1000:\tlearn: 0.3161754\ttest: 0.3749735\tbest: 0.3749735 (1000)\ttotal: 19.1s\tremaining: 9.52s\n",
      "1499:\tlearn: 0.2876817\ttest: 0.3691963\tbest: 0.3691963 (1499)\ttotal: 27.8s\tremaining: 0us\n",
      "bestTest = 0.3691962918\n",
      "bestIteration = 1499\n",
      "Learning rate set to 0.14882\n",
      "0:\tlearn: 1.7051791\ttest: 1.7021058\tbest: 1.7021058 (0)\ttotal: 19.5ms\tremaining: 29.2s\n",
      "500:\tlearn: 0.3591523\ttest: 0.3874607\tbest: 0.3874607 (500)\ttotal: 9.2s\tremaining: 18.3s\n",
      "1000:\tlearn: 0.3174381\ttest: 0.3712246\tbest: 0.3712246 (1000)\ttotal: 18s\tremaining: 8.97s\n",
      "1499:\tlearn: 0.2878581\ttest: 0.3655017\tbest: 0.3654617 (1496)\ttotal: 26.8s\tremaining: 0us\n",
      "bestTest = 0.3654617301\n",
      "bestIteration = 1496\n",
      "Shrink model to first 1497 iterations.\n"
     ]
    }
   ],
   "source": [
    "N_SPLITS = 10\n",
    "SEED = 42\n",
    "YCLASS = 19\n",
    "skf = StratifiedKFold(n_splits=N_SPLITS, shuffle=True, random_state=SEED)\n",
    "target = \"type\"\n",
    "oof = pd.DataFrame(columns = np.arange(YCLASS),index = np.arange(len(train)))\n",
    "predictions = np.zeros((len(test), YCLASS))\n",
    "\n",
    "features = [col for col in test.columns if col not in [target, 'id']]\n",
    "X_test = test[features].values\n",
    "\n",
    "for fold, (trn_idx, val_idx) in enumerate(skf.split(train, train[target])):\n",
    "    X_train, y_train = train.iloc[trn_idx][features], train.iloc[trn_idx][target]\n",
    "    X_valid, y_valid = train.iloc[val_idx][features], train.iloc[val_idx][target]\n",
    "    trn_data = Pool(X_train, label=y_train)\n",
    "    val_data = Pool(X_valid, label=y_valid)\n",
    "    evals_result = {}\n",
    "    params = {\"iterations\" : 1500}\n",
    "    \n",
    "    model = CatBoostClassifier(**params,\n",
    "                            loss_function=\"MultiClass\",\n",
    "                           task_type=\"GPU\")\n",
    "\n",
    "    fit_model = model.fit(trn_data,\n",
    "                          eval_set=val_data,\n",
    "                          use_best_model=True,\n",
    "                          verbose=500,\n",
    "                          #plot=True\n",
    "                         )\n",
    "    p_valid = fit_model.predict_proba(X_valid[features].values)\n",
    "    yp = fit_model.predict_proba(X_test)\n",
    "\n",
    "    p_valid_df = pd.DataFrame(p_valid, columns = np.arange(YCLASS), index = X_valid.index)\n",
    "    logloss = log_loss(y_valid, p_valid)\n",
    "\n",
    "    oof = oof.combine_first(p_valid_df)\n",
    "\n",
    "    predictions += yp / N_SPLITS"
   ]
  },
  {
   "cell_type": "code",
   "execution_count": 66,
   "metadata": {},
   "outputs": [
    {
     "data": {
      "text/plain": [
       "Index(['QSO', 'STAR_RED_DWARF', 'SERENDIPITY_BLUE', 'STAR_BHB',\n",
       "       'STAR_CATY_VAR', 'SERENDIPITY_DISTANT', 'GALAXY', 'SPECTROPHOTO_STD',\n",
       "       'REDDEN_STD', 'ROSAT_D', 'STAR_WHITE_DWARF', 'SERENDIPITY_RED',\n",
       "       'STAR_CARBON', 'SERENDIPITY_FIRST', 'STAR_BROWN_DWARF',\n",
       "       'STAR_SUB_DWARF', 'SKY', 'SERENDIPITY_MANUAL', 'STAR_PN'],\n",
       "      dtype='object')"
      ]
     },
     "execution_count": 66,
     "metadata": {},
     "output_type": "execute_result"
    }
   ],
   "source": [
    "data[\"keys\"]"
   ]
  },
  {
   "cell_type": "code",
   "execution_count": 73,
   "metadata": {},
   "outputs": [],
   "source": [
    "col = [\"id\",\"STAR_WHITE_DWARF\",\"STAR_CATY_VAR\",\"STAR_BROWN_DWARF\",\"SERENDIPITY_RED\",\n",
    "\"REDDEN_STD\",\"STAR_BHB\",\"GALAXY\", \"SERENDIPITY_DISTANT\",\"QSO\",\"SKY\",\"STAR_RED_DWARF\",\"ROSAT_D\",\n",
    "\"STAR_PN\",\"SERENDIPITY_FIRST\",\"STAR_CARBON\",\"SPECTROPHOTO_STD\",\"STAR_SUB_DWARF\",\"SERENDIPITY_MANUAL\",\n",
    " \"SERENDIPITY_BLUE\"]\n"
   ]
  },
  {
   "cell_type": "code",
   "execution_count": 75,
   "metadata": {},
   "outputs": [],
   "source": [
    "yp_submission = pd.DataFrame(predictions, columns = data[\"keys\"]) \n",
    "yp_submission[\"id\"] =  test.id\n",
    "yp_submission = yp_submission[col]"
   ]
  },
  {
   "cell_type": "code",
   "execution_count": 69,
   "metadata": {},
   "outputs": [],
   "source": [
    "params = {\"iterations\" : 1500}"
   ]
  },
  {
   "cell_type": "code",
   "execution_count": 70,
   "metadata": {},
   "outputs": [],
   "source": [
    "filename = \"submission1.csv\"\n",
    "training_loss = fit_model.get_best_score()[\"learn\"][\"MultiClass\"]\n",
    "validation_loss = fit_model.get_best_score()[\"validation\"][\"MultiClass\"]\n",
    "public_score = 0\n",
    "description = params"
   ]
  },
  {
   "cell_type": "code",
   "execution_count": 71,
   "metadata": {},
   "outputs": [],
   "source": [
    "result = pd.DataFrame(data = [[filename, training_loss, validation_loss, public_score, description]],\n",
    "             columns = [\"filename\", \"training_loss\", \"validation_loss\", \"public_score\", \"description\"])"
   ]
  },
  {
   "cell_type": "code",
   "execution_count": 76,
   "metadata": {},
   "outputs": [],
   "source": [
    "yp_submission.to_csv(filename,index = False)\n",
    "result.to_csv(\"result.csv\",index=False)"
   ]
  },
  {
   "cell_type": "code",
   "execution_count": null,
   "metadata": {},
   "outputs": [],
   "source": []
  }
 ],
 "metadata": {
  "kernelspec": {
   "display_name": "Python 3",
   "language": "python",
   "name": "python3"
  },
  "language_info": {
   "codemirror_mode": {
    "name": "ipython",
    "version": 3
   },
   "file_extension": ".py",
   "mimetype": "text/x-python",
   "name": "python",
   "nbconvert_exporter": "python",
   "pygments_lexer": "ipython3",
   "version": "3.7.3"
  }
 },
 "nbformat": 4,
 "nbformat_minor": 1
}

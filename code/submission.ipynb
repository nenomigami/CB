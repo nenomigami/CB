{
 "cells": [
  {
   "cell_type": "code",
   "execution_count": null,
   "metadata": {},
   "outputs": [],
   "source": [
    "import pandas as pd\n",
    "import numpy as np\n",
    "\n",
    "import dill as pickle\n",
    "\n",
    "from sklearn.model_selection import train_test_split,StratifiedKFold, RandomizedSearchCV\n",
    "from sklearn.metrics import log_loss\n",
    "\n",
    "\n",
    "from sklearn.svm import NuSVC\n",
    "pd.set_option(\"display.precision\", 15)\n",
    "np.set_printoptions(suppress=True)"
   ]
  },
  {
   "cell_type": "code",
   "execution_count": null,
   "metadata": {},
   "outputs": [],
   "source": [
    "with open(\"/kaggle/input/celestial/data_outlierRemove.pkl\", \"rb\") as f:\n",
    "    data = pickle.load(f)"
   ]
  },
  {
   "cell_type": "code",
   "execution_count": null,
   "metadata": {},
   "outputs": [],
   "source": [
    "train = data[\"train\"]\n",
    "test = data[\"test\"]"
   ]
  },
  {
   "cell_type": "code",
   "execution_count": null,
   "metadata": {},
   "outputs": [],
   "source": [
    "param = {'nu': [0.0005, 0.005, 0.05, 0.1, 0.2 , 0.5],\n",
    "              'kernel': [\"rbf\", 'poly'],\n",
    "              'degree': [2,3,4],\n",
    "              }\n"
   ]
  },
  {
   "cell_type": "code",
   "execution_count": null,
   "metadata": {},
   "outputs": [],
   "source": [
    "N_SPLITS = 10\n",
    "SEED = 42\n",
    "YCLASS = 19\n",
    "\n",
    "tr_loss = []\n",
    "val_loss = []\n",
    "\n",
    "skf = StratifiedKFold(n_splits=N_SPLITS, shuffle=True, random_state=SEED)\n",
    "target = \"type\"\n",
    "oof = pd.DataFrame(columns = np.arange(YCLASS),index = np.arange(len(train)))\n",
    "predictions = np.zeros((len(test), YCLASS))\n",
    "\n",
    "features = [col for col in test.columns if col not in [target, 'id']]\n",
    "X_test = test[features]\n",
    "\n",
    "#feature_importance = pd.DataFrame()\n",
    "#feature_importance[\"feature\"] = features\n",
    "#feature_importance[\"importance\"] = 0\n",
    "\n",
    "for fold, (trn_idx, val_idx) in enumerate(skf.split(train, train[target])):\n",
    "    X_train, y_train = train.iloc[trn_idx][features], train.iloc[trn_idx][target]\n",
    "    X_valid, y_valid = train.iloc[val_idx][features], train.iloc[val_idx][target]\n",
    "    #trn_data = Pool(X_train, label=y_train)\n",
    "    #val_data = Pool(X_valid, label=y_valid)\n",
    "    #evals_result = {}\n",
    "    params = {\"iterations\" : 7000}\n",
    "    \n",
    "    model = CatBoostClassifier(**params,\n",
    "                            loss_function=\"MultiClass\",\n",
    "                            task_type=\"GPU\")\n",
    "\n",
    "    fit_model = model.fit(trn_data,\n",
    "                          eval_set=val_data,\n",
    "                          use_best_model=True,\n",
    "                          verbose=500,\n",
    "                          #plot=True\n",
    "                         )\n",
    "    p_valid = fit_model.predict_proba(X_valid[features])\n",
    "    yp = fit_model.predict_proba(X_test)\n",
    "\n",
    "    p_valid_df = pd.DataFrame(p_valid, columns = np.arange(YCLASS), index = X_valid.index)\n",
    "    logloss = log_loss(y_valid, p_valid)\n",
    "\n",
    "    oof = oof.combine_first(p_valid_df)\n",
    "\n",
    "    predictions += yp / N_SPLITS\n",
    "    feature_importance[\"importance\"] += model.get_feature_importance(val_data,type='LossFunctionChange')/N_SPLITS\n",
    "    \n",
    "    tr_loss.append(fit_model.get_best_score()[\"learn\"][\"MultiClass\"])\n",
    "    val_loss.append(fit_model.get_best_score()[\"validation\"][\"MultiClass\"])"
   ]
  }
 ],
 "metadata": {
  "kernelspec": {
   "display_name": "Python 3",
   "language": "python",
   "name": "python3"
  },
  "language_info": {
   "codemirror_mode": {
    "name": "ipython",
    "version": 3
   },
   "file_extension": ".py",
   "mimetype": "text/x-python",
   "name": "python",
   "nbconvert_exporter": "python",
   "pygments_lexer": "ipython3",
   "version": "3.7.3"
  }
 },
 "nbformat": 4,
 "nbformat_minor": 4
}
